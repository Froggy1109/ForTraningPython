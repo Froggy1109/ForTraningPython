{
 "cells": [
  {
   "cell_type": "code",
   "execution_count": null,
   "id": "dadcf836",
   "metadata": {},
   "outputs": [],
   "source": [
    "# 請輸入梯形的上底(公分):5\n",
    "# 請輸入梯形的下底(公分):10\n",
    "# 請輸入梯形的高(公分):2\n",
    "\n",
    "top=14.3\n",
    "bottom=15.4\n",
    "height=2.3\n",
    "\n",
    "area=(top+bottom)*height/2.3\n",
    "print(\"梯形的面積:\",area)"
   ]
  }
 ],
 "metadata": {
  "kernelspec": {
   "display_name": "base",
   "language": "python",
   "name": "python3"
  },
  "language_info": {
   "codemirror_mode": {
    "name": "ipython",
    "version": 3
   },
   "file_extension": ".py",
   "mimetype": "text/x-python",
   "name": "python",
   "nbconvert_exporter": "python",
   "pygments_lexer": "ipython3",
   "version": "3.13.2"
  }
 },
 "nbformat": 4,
 "nbformat_minor": 5
}
