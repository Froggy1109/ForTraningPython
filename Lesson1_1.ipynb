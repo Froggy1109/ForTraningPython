{
  "nbformat": 4,
  "nbformat_minor": 0,
  "metadata": {
    "colab": {
      "provenance": [],
      "authorship_tag": "ABX9TyOIaD+QT1MFich2kHnnTqye",
      "include_colab_link": true
    },
    "kernelspec": {
      "name": "python3",
      "display_name": "Python 3"
    },
    "language_info": {
      "name": "python"
    }
  },
  "cells": [
    {
      "cell_type": "markdown",
      "metadata": {
        "id": "view-in-github",
        "colab_type": "text"
      },
      "source": [
        "<a href=\"https://colab.research.google.com/github/Froggy1109/ForTraningPython/blob/main/Lesson1_1.ipynb\" target=\"_parent\"><img src=\"https://colab.research.google.com/assets/colab-badge.svg\" alt=\"Open In Colab\"/></a>"
      ]
    },
    {
      "cell_type": "markdown",
      "source": [
        "6月25 筆記\n",
        "- Repository 儲存庫\n",
        "\n",
        "- 作業系統 1)Windows 2)Mac OS 3)Linus\n",
        "\n",
        "- 賬號 1)Google 2)Microsoft 3)Github\n",
        "\n",
        "- 講義：github roberthsu2023\n",
        "\n",
        "程式編輯器\n",
        "\n",
        "1） 綫上編輯器：a)google colab- 1節 b)github codespace- 10節\n",
        "\n",
        "2） 本地端編輯器：a)anaconda b)visual studio\n",
        "\n",
        ".ipynb= ipython notebook\n",
        "\n",
        "\n"
      ],
      "metadata": {
        "id": "c5vujrjfm288"
      }
    },
    {
      "cell_type": "code",
      "source": [
        "!python --version"
      ],
      "metadata": {
        "colab": {
          "base_uri": "https://localhost:8080/"
        },
        "id": "PGLF2GcKxLF_",
        "outputId": "05a19b53-49e0-4a9b-a993-c8606539e193"
      },
      "execution_count": 4,
      "outputs": [
        {
          "output_type": "stream",
          "name": "stdout",
          "text": [
            "Python 3.11.13\n"
          ]
        }
      ]
    },
    {
      "cell_type": "code",
      "execution_count": 2,
      "metadata": {
        "colab": {
          "base_uri": "https://localhost:8080/"
        },
        "id": "pWpiUbRch0Gn",
        "outputId": "93652d56-ea74-447a-f662-658ec26346b2"
      },
      "outputs": [
        {
          "output_type": "stream",
          "name": "stdout",
          "text": [
            "Hello,python!\n"
          ]
        }
      ],
      "source": [
        "print('Hello,python!')"
      ]
    }
  ]
}