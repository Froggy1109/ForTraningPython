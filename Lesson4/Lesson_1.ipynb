{
 "cells": [
  {
   "cell_type": "code",
   "execution_count": 9,
   "id": "ff91cf35",
   "metadata": {},
   "outputs": [
    {
     "name": "stdout",
     "output_type": "stream",
     "text": [
      "3數的加總是： 131.5\n"
     ]
    }
   ],
   "source": [
    "value1=float(input(\"請輸入第一個值\"))\n",
    "value2=float(input(\"請輸入第二個值\"))\n",
    "value3=float(input(\"請輸入第三個值\"))\n",
    "\n",
    "total= value1  +  value2 +  value3\n",
    "print(\"3數的加總是：\", total)"
   ]
  },
  {
   "cell_type": "code",
   "execution_count": 10,
   "id": "4938585e",
   "metadata": {},
   "outputs": [
    {
     "name": "stdout",
     "output_type": "stream",
     "text": [
      "3 10.6 國豐 False 20.6\n"
     ]
    }
   ],
   "source": [
    "print(3,\"10.6\", \"國豐\", False, 20.6)"
   ]
  }
 ],
 "metadata": {
  "kernelspec": {
   "display_name": "base",
   "language": "python",
   "name": "python3"
  },
  "language_info": {
   "codemirror_mode": {
    "name": "ipython",
    "version": 3
   },
   "file_extension": ".py",
   "mimetype": "text/x-python",
   "name": "python",
   "nbconvert_exporter": "python",
   "pygments_lexer": "ipython3",
   "version": "3.13.2"
  }
 },
 "nbformat": 4,
 "nbformat_minor": 5
}
