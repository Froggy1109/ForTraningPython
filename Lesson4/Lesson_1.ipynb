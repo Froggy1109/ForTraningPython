{
 "cells": [
  {
   "cell_type": "code",
   "execution_count": 18,
   "id": "ff91cf35",
   "metadata": {},
   "outputs": [
    {
     "name": "stdout",
     "output_type": "stream",
     "text": [
      "3數的加總是： 150.0\n"
     ]
    }
   ],
   "source": [
    "value1=float(input(\"請輸入第一個值\"))\n",
    "value2=float(input(\"請輸入第二個值\"))\n",
    "value3=float(input(\"請輸入第三個值\"))\n",
    "\n",
    "total= value1  +  value2 +  value3\n",
    "print(\"3數的加總是：\", total)"
   ]
  },
  {
   "cell_type": "code",
   "execution_count": null,
   "id": "4938585e",
   "metadata": {},
   "outputs": [
    {
     "name": "stdout",
     "output_type": "stream",
     "text": [
      "3 10.6 國豐 False 20.6\n"
     ]
    }
   ],
   "source": [
    "print(3,\"10.6\", \"國豐\", False, 20.6)"
   ]
  },
  {
   "cell_type": "code",
   "execution_count": null,
   "id": "2b9dbc72",
   "metadata": {},
   "outputs": [
    {
     "name": "stdout",
     "output_type": "stream",
     "text": [
      "n= 50\n"
     ]
    }
   ],
   "source": [
    "n=25\n",
    "n=n+25\n",
    "print('n=',n)"
   ]
  },
  {
   "cell_type": "code",
   "execution_count": null,
   "id": "99cb8c3a",
   "metadata": {},
   "outputs": [
    {
     "name": "stdout",
     "output_type": "stream",
     "text": [
      "n= 100\n"
     ]
    }
   ],
   "source": [
    "#符合指定運算子\n",
    "\n",
    "#+=\n",
    "#-=\n",
    "#*=\n",
    "\n",
    "n=25\n",
    "n+=25\n",
    "n*=2\n",
    "print(\"n=\",n)"
   ]
  },
  {
   "cell_type": "code",
   "execution_count": 19,
   "id": "3f0a09de",
   "metadata": {},
   "outputs": [
    {
     "name": "stdout",
     "output_type": "stream",
     "text": [
      "3數的加總是： 106.1\n"
     ]
    }
   ],
   "source": [
    "#符合指定運算子\n",
    "\n",
    "total=0\n",
    "value=float(input(\"請輸入第一個值\"))\n",
    "total +=value\n",
    "\n",
    "value=float(input(\"請輸入第二個值\"))\n",
    "total +=value\n",
    "\n",
    "value=float(input(\"請輸入第三個值\"))\n",
    "total +=value\n",
    "\n",
    "print(\"3數的加總是：\", total)\n"
   ]
  },
  {
   "cell_type": "code",
   "execution_count": 5,
   "id": "f4dc67ff",
   "metadata": {},
   "outputs": [
    {
     "name": "stdout",
     "output_type": "stream",
     "text": [
      "a= 5.0\n",
      "b= 6.0\n",
      "斜邊為 7.810249675906654\n"
     ]
    }
   ],
   "source": [
    "#直角三角形\n",
    "import math\n",
    "a=float(input(\"請輸入a=\"))\n",
    "b=float(input(\"請輸入b=\"))\n",
    "c=math.sqrt(a**2 + b**2)\n",
    "\n",
    "print(\"a=\",a)\n",
    "print(\"b=\",b)\n",
    "print(\"斜邊為\",c)\n"
   ]
  },
  {
   "cell_type": "code",
   "execution_count": 19,
   "id": "af12d812",
   "metadata": {},
   "outputs": [
    {
     "name": "stdout",
     "output_type": "stream",
     "text": [
      "斜邊=: 50.0\n",
      "斜邊=: 30.0\n",
      "直角三角形的角度是 36.86989764584402\n"
     ]
    }
   ],
   "source": [
    "import math\n",
    "side=float(input(\"請輸入斜邊=\"))\n",
    "other_side=float(input(\"請輸入對邊=\"))\n",
    "radian=math.asin(other_side/side)\n",
    "degree=math.degrees(radian)\n",
    "\n",
    "print(\"斜邊=:\",side)\n",
    "print(\"斜邊=:\",other_side)\n",
    "print(\"直角三角形的角度是\",degree)"
   ]
  },
  {
   "cell_type": "code",
   "execution_count": 20,
   "id": "33b6b82d",
   "metadata": {},
   "outputs": [
    {
     "data": {
      "text/plain": [
       "2.1889332039668483"
      ]
     },
     "execution_count": 20,
     "metadata": {},
     "output_type": "execute_result"
    }
   ],
   "source": [
    "import statistics\n",
    "statistics.stdev([1.5,2.5,5,3.5,4.2,6,8])"
   ]
  }
 ],
 "metadata": {
  "kernelspec": {
   "display_name": "base",
   "language": "python",
   "name": "python3"
  },
  "language_info": {
   "codemirror_mode": {
    "name": "ipython",
    "version": 3
   },
   "file_extension": ".py",
   "mimetype": "text/x-python",
   "name": "python",
   "nbconvert_exporter": "python",
   "pygments_lexer": "ipython3",
   "version": "3.13.2"
  }
 },
 "nbformat": 4,
 "nbformat_minor": 5
}
