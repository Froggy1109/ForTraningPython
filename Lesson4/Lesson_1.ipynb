{
 "cells": [
  {
   "cell_type": "code",
   "execution_count": 18,
   "id": "ff91cf35",
   "metadata": {},
   "outputs": [
    {
     "name": "stdout",
     "output_type": "stream",
     "text": [
      "3數的加總是： 150.0\n"
     ]
    }
   ],
   "source": [
    "value1=float(input(\"請輸入第一個值\"))\n",
    "value2=float(input(\"請輸入第二個值\"))\n",
    "value3=float(input(\"請輸入第三個值\"))\n",
    "\n",
    "total= value1  +  value2 +  value3\n",
    "print(\"3數的加總是：\", total)"
   ]
  },
  {
   "cell_type": "code",
   "execution_count": null,
   "id": "4938585e",
   "metadata": {},
   "outputs": [
    {
     "name": "stdout",
     "output_type": "stream",
     "text": [
      "3 10.6 國豐 False 20.6\n"
     ]
    }
   ],
   "source": [
    "print(3,\"10.6\", \"國豐\", False, 20.6)"
   ]
  },
  {
   "cell_type": "code",
   "execution_count": null,
   "id": "2b9dbc72",
   "metadata": {},
   "outputs": [
    {
     "name": "stdout",
     "output_type": "stream",
     "text": [
      "n= 50\n"
     ]
    }
   ],
   "source": [
    "n=25\n",
    "n=n+25\n",
    "print('n=',n)"
   ]
  },
  {
   "cell_type": "code",
   "execution_count": null,
   "id": "99cb8c3a",
   "metadata": {},
   "outputs": [
    {
     "name": "stdout",
     "output_type": "stream",
     "text": [
      "n= 100\n"
     ]
    }
   ],
   "source": [
    "#符合指定運算子\n",
    "\n",
    "#+=\n",
    "#-=\n",
    "#*=\n",
    "\n",
    "n=25\n",
    "n+=25\n",
    "n*=2\n",
    "print(\"n=\",n)"
   ]
  },
  {
   "cell_type": "code",
   "execution_count": 19,
   "id": "3f0a09de",
   "metadata": {},
   "outputs": [
    {
     "name": "stdout",
     "output_type": "stream",
     "text": [
      "3數的加總是： 106.1\n"
     ]
    }
   ],
   "source": [
    "#符合指定運算子\n",
    "\n",
    "total=0\n",
    "value=float(input(\"請輸入第一個值\"))\n",
    "total +=value\n",
    "\n",
    "value=float(input(\"請輸入第二個值\"))\n",
    "total +=value\n",
    "\n",
    "value=float(input(\"請輸入第三個值\"))\n",
    "total +=value\n",
    "\n",
    "print(\"3數的加總是：\", total)\n"
   ]
  }
 ],
 "metadata": {
  "kernelspec": {
   "display_name": "base",
   "language": "python",
   "name": "python3"
  },
  "language_info": {
   "codemirror_mode": {
    "name": "ipython",
    "version": 3
   },
   "file_extension": ".py",
   "mimetype": "text/x-python",
   "name": "python",
   "nbconvert_exporter": "python",
   "pygments_lexer": "ipython3",
   "version": "3.13.2"
  }
 },
 "nbformat": 4,
 "nbformat_minor": 5
}
