{
 "cells": [
  {
   "cell_type": "code",
   "execution_count": 3,
   "id": "fd960b36",
   "metadata": {},
   "outputs": [
    {
     "name": "stdout",
     "output_type": "stream",
     "text": [
      "學生總分是 275\n"
     ]
    }
   ],
   "source": [
    "#學生總分為300分\n",
    "#有些學生可以加10%\n",
    "scores=int(input(\"請輸入學生的分數(300)\"))\n",
    "is_add=input(\"學生是否符合加分條件?(y,n)\")\n",
    "\n",
    "if is_add==\"y\":#單項選擇\n",
    "    scores*=1.10\n",
    "print(\"學生總分是\",round(scores))"
   ]
  },
  {
   "cell_type": "code",
   "execution_count": 5,
   "id": "923246b1",
   "metadata": {},
   "outputs": [
    {
     "name": "stdout",
     "output_type": "stream",
     "text": [
      "學生總分是 300\n"
     ]
    }
   ],
   "source": [
    "#學生總分為300分\n",
    "#有些學生可以加10%\n",
    "scores=int(input(\"請輸入學生的分數(300)\"))\n",
    "is_add=input(\"學生是否符合加分條件?(y,n)\")\n",
    "\n",
    "if is_add==\"y\":#單項選擇\n",
    "    scores*=1.10\n",
    "    if scores >300:\n",
    "        scores=300\n",
    "print(\"學生總分是\",round(scores))"
   ]
  },
  {
   "cell_type": "code",
   "execution_count": 7,
   "id": "35f28084",
   "metadata": {},
   "outputs": [
    {
     "name": "stdout",
     "output_type": "stream",
     "text": [
      "學生總分是 1\n",
      "應用程式結束\n"
     ]
    }
   ],
   "source": [
    "#學生總分為300分\n",
    "#有些學生可以加10%\n",
    "scores=int(input(\"請輸入學生的分數(300)\"))\n",
    "if scores <=300:\n",
    "    is_add=input(\"學生是否符合加分條件?(y,n)\")\n",
    "\n",
    "    if is_add==\"y\":#單項選擇\n",
    "        scores*=1.10\n",
    "        if scores >300:\n",
    "            scores=300\n",
    "    print(\"學生總分是\",round(scores))\n",
    "else:\n",
    "    print('總分不得超過300')\n",
    "\n",
    "print('應用程式結束')\n"
   ]
  },
  {
   "cell_type": "code",
   "execution_count": 11,
   "id": "133379eb",
   "metadata": {},
   "outputs": [
    {
     "name": "stdout",
     "output_type": "stream",
     "text": [
      "金額是: 456\n",
      "應用程式結束\n"
     ]
    }
   ],
   "source": [
    "try:\n",
    "    money =int(input('請輸入金額'))\n",
    "    print('金額是:',money)\n",
    "except:\n",
    "    print('格式錯誤')\n",
    "\n",
    "print(\"應用程式結束\")"
   ]
  },
  {
   "cell_type": "code",
   "execution_count": 5,
   "id": "e867f9db",
   "metadata": {},
   "outputs": [
    {
     "name": "stdout",
     "output_type": "stream",
     "text": [
      "格式錯誤\n",
      "應用程式結束\n"
     ]
    }
   ],
   "source": [
    "try:\n",
    "    money =int(input('請輸入金額'))\n",
    "except IndexError:\n",
    "    print('索引錯誤')\n",
    "except ValueError:\n",
    "    print('格式錯誤')\n",
    "except:\n",
    "    print('不知名的錯誤')\n",
    "\n",
    "print('應用程式結束')"
   ]
  },
  {
   "cell_type": "code",
   "execution_count": 6,
   "id": "890e9190",
   "metadata": {},
   "outputs": [
    {
     "name": "stdout",
     "output_type": "stream",
     "text": [
      "格式錯誤 invalid literal for int() with base 10: '345a'\n",
      "應用程式結束\n"
     ]
    }
   ],
   "source": [
    "try:\n",
    "    money =int(input('請輸入金額'))\n",
    "except IndexError as e:\n",
    "    print('索引錯誤',e)\n",
    "except ValueError as e:\n",
    "    print('格式錯誤',e)\n",
    "except:\n",
    "    print('不知名的錯誤')\n",
    "\n",
    "print('應用程式結束')"
   ]
  },
  {
   "cell_type": "code",
   "execution_count": null,
   "id": "a3adc04e",
   "metadata": {},
   "outputs": [],
   "source": [
    "try:\n",
    "    money =int(input('請輸入金額'))\n",
    "except IndexError as e:\n",
    "    print('索引錯誤',e)\n",
    "except ValueError as e:\n",
    "    print('格式錯誤',e)\n",
    "except:\n",
    "    print('不知名的錯誤')\n",
    "else:\n",
    "    print1('沒有出現錯誤')\n",
    "finally:\n",
    "    print('結束internet連綫')\n",
    "\n",
    "print('應用程式結束')"
   ]
  }
 ],
 "metadata": {
  "kernelspec": {
   "display_name": "base",
   "language": "python",
   "name": "python3"
  },
  "language_info": {
   "codemirror_mode": {
    "name": "ipython",
    "version": 3
   },
   "file_extension": ".py",
   "mimetype": "text/x-python",
   "name": "python",
   "nbconvert_exporter": "python",
   "pygments_lexer": "ipython3",
   "version": "3.13.2"
  }
 },
 "nbformat": 4,
 "nbformat_minor": 5
}
