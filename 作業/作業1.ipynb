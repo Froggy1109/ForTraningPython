{
 "cells": [
  {
   "cell_type": "code",
   "execution_count": 74,
   "id": "310a14a5",
   "metadata": {},
   "outputs": [
    {
     "name": "stdout",
     "output_type": "stream",
     "text": [
      "你的身高是 160.0\n",
      "你的體重是 100.0\n",
      "your BMI is 39.06\n",
      "結束\n"
     ]
    }
   ],
   "source": [
    "#請輸入身高(120-250,cm)\n",
    "#請輸入體重(30-200,kg)\n",
    "\n",
    "try:\n",
    "    Height = float(input('請輸入你的身高(120-250)'))\n",
    "    if Height > 120 and Height < 250:\n",
    "        print('你的身高是', Height)\n",
    "    else:\n",
    "        print('已超出身高範圍')\n",
    "    \n",
    "    Weight=float(input('請輸入體重(30-200)'))\n",
    "    if Weight > 30 and Weight < 200:\n",
    "        print('你的體重是', Weight)\n",
    "    else:\n",
    "        raise Exception('已超出體重的範圍')\n",
    " \n",
    "except ValueError as e:\n",
    "    print('格式錯誤', e)\n",
    "except Exception as h:\n",
    "    print('不知名的錯誤',h )\n",
    "\n",
    "else:\n",
    "    BMI = Weight / (Height/100)**2\n",
    "    print('your BMI is', round(BMI,ndigits=2))\n",
    "\n",
    "finally:\n",
    "    print('結束')\n",
    "\n",
    "\n"
   ]
  }
 ],
 "metadata": {
  "kernelspec": {
   "display_name": "base",
   "language": "python",
   "name": "python3"
  },
  "language_info": {
   "codemirror_mode": {
    "name": "ipython",
    "version": 3
   },
   "file_extension": ".py",
   "mimetype": "text/x-python",
   "name": "python",
   "nbconvert_exporter": "python",
   "pygments_lexer": "ipython3",
   "version": "3.13.2"
  }
 },
 "nbformat": 4,
 "nbformat_minor": 5
}
